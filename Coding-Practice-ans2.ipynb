{
 "cells": [
  {
   "cell_type": "code",
   "execution_count": null,
   "metadata": {},
   "outputs": [],
   "source": [
    "# 1\n",
    "def validitycheck(cid):\n",
    "    #req1: a-z and 0-9 only \n",
    "    if not (cid.replace(\"_\",\"\").isalnum()):\n",
    "        return (\"invalid\")\n",
    "    #req2 & 3 :4 groups, each group has three characters with a-z, A-Z and 0-9\n",
    "    groups=cid.split(\"_\")\n",
    "    if len(groups)>4:\n",
    "        return (\"invalid\")\n",
    "    for group in groups:\n",
    "        if len(group)>3:\n",
    "            return (\"invalid\")\n",
    "    \n",
    "    #Req 5: repeating characters check\n",
    "    from collections import Counter\n",
    "    counts=dict(Counter(cid))\n",
    "    for key in counts.keys():\n",
    "        if counts.get(key)>3:\n",
    "            return(\"invalid\")\n",
    "    return(\"valid\")\n",
    "    \n",
    "cid=input()\n",
    "print(validitycheck(cid))"
   ]
  },
  {
   "cell_type": "code",
   "execution_count": null,
   "metadata": {},
   "outputs": [],
   "source": [
    "# 2\n",
    "pwd=input()\n",
    "import re\n",
    "if ((len(pwd)>=8) and (re.search(\"[a-z]\",pwd)) and (re.search(\"[A-Z]\",pwd)) and (re.search(\"[0-9]\",pwd)) and (re.search(\"[@%$*]\",pwd))):\n",
    "    print(\"valid\")\n",
    "else:\n",
    "    print(\"invalid\")"
   ]
  },
  {
   "cell_type": "raw",
   "metadata": {},
   "source": [
    "# 3\n",
    "import pandas as pd \n",
    "df=pd.read_csv(\"https://media-doselect.s3.amazonaws.com/generic/A0zOxQvk78ONwRgLZ1WYJOxWq/titaniMod2.csv\")\n",
    "a=int(input())\n",
    "b=int(input())\n",
    "c=int(a/(a+b)*len(df))\n",
    "print(df[:c].describe())\n",
    "print(df[c:].describe())"
   ]
  },
  {
   "cell_type": "code",
   "execution_count": null,
   "metadata": {},
   "outputs": [],
   "source": [
    "# 4\n",
    "import ast,sys\n",
    "input_str = sys.stdin.read()\n",
    "input_dict = dict(ast.literal_eval(input_str))\n",
    "def flatten_dict(d):\n",
    "    def expand(key, value):\n",
    "        if isinstance(value, dict):\n",
    "            return [ (key + '_' + k, v) for k, v in flatten_dict(value).items() ]\n",
    "        else:\n",
    "            return [ (key, value) ]\n",
    "\n",
    "    items = [ item for k, v in d.items() for item in expand(k, v) ]\n",
    "\n",
    "    return dict(items)\n",
    "\n",
    "out1=list(flatten_dict(input_dict).keys())\n",
    "out2=list(flatten_dict(input_dict).values())\n",
    "out1.sort()\n",
    "out2.sort()\n",
    "print(out1)\n",
    "print(out2)"
   ]
  },
  {
   "cell_type": "code",
   "execution_count": null,
   "metadata": {},
   "outputs": [],
   "source": [
    "# 5\n",
    "import pandas as pd \n",
    "import scipy.stats\n",
    "df=pd.read_csv(\"https://media-doselect.s3.amazonaws.com/generic/K9WgyRZ75q4Pkdp38AQabgE0X/Automobile_data.csv\")\n",
    "col1=input()\n",
    "col2=input()\n",
    "print(scipy.stats.ttest_rel(df[col1],df[col2]).pvalue)"
   ]
  },
  {
   "cell_type": "code",
   "execution_count": null,
   "metadata": {},
   "outputs": [],
   "source": [
    "# 6\n",
    "import pandas as pd \n",
    "import scipy.stats\n",
    "df=pd.read_csv(\"https://media-doselect.s3.amazonaws.com/generic/5J7nrZegVWOORbGr4M7KVPXE5/Admission_Predict.csv\")\n",
    "col=input()\n",
    "x=float(input())\n",
    "print(scipy.stats.ttest_1samp(df[col], x).pvalue)"
   ]
  },
  {
   "cell_type": "code",
   "execution_count": null,
   "metadata": {},
   "outputs": [],
   "source": [
    "# 7\n",
    "import ast,sys\n",
    "input_str = sys.stdin.read()\n",
    "inp = ast.literal_eval(input_str)\n",
    "list1=inp[0]#first list\n",
    "list2=inp[1]#second list\n",
    "print(list(set(list1).intersection(set(list2))))"
   ]
  },
  {
   "cell_type": "code",
   "execution_count": null,
   "metadata": {},
   "outputs": [],
   "source": [
    "# 8\n",
    "import pandas as pd \n",
    "col=input()\n",
    "df=pd.read_csv(\"https://media-doselect.s3.amazonaws.com/generic/RM8r5NBrJdA4QeVZXvwbjokwv/Admission_Predict.csv\")\n",
    "print(df.sort_values(by=[col],ascending=False).head())"
   ]
  },
  {
   "cell_type": "code",
   "execution_count": null,
   "metadata": {},
   "outputs": [],
   "source": [
    "# 9\n",
    "import pandas as pd \n",
    "df=pd.read_csv(\"https://media-doselect.s3.amazonaws.com/generic/pLMXoA0GZNAPMRNrdnn88pOxb/train.csv\")\n",
    "col=input()\n",
    "print(df.pivot_table('Survived', index=[col], columns='Pclass'))\n"
   ]
  }
 ],
 "metadata": {
  "kernelspec": {
   "display_name": "Python 3",
   "language": "python",
   "name": "python3"
  },
  "language_info": {
   "codemirror_mode": {
    "name": "ipython",
    "version": 3
   },
   "file_extension": ".py",
   "mimetype": "text/x-python",
   "name": "python",
   "nbconvert_exporter": "python",
   "pygments_lexer": "ipython3",
   "version": "3.7.6"
  }
 },
 "nbformat": 4,
 "nbformat_minor": 4
}
