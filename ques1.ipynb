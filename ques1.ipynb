{
 "cells": [
  {
   "cell_type": "code",
   "execution_count": 64,
   "metadata": {},
   "outputs": [
    {
     "name": "stdout",
     "output_type": "stream",
     "text": [
      "1\n"
     ]
    }
   ],
   "source": [
    "#input\n",
    "n=1\n",
    "a=[['C']]\n",
    "\n",
    "from copy import deepcopy\n",
    "b,c=deepcopy(a),deepcopy(a)\n",
    "\n",
    "def check(a,k,l):\n",
    "    m=0\n",
    "    while k<n:\n",
    "        if a[n-1-k][n-1-l]=='C':\n",
    "            m+=1\n",
    "            break\n",
    "        else:\n",
    "            k+=1\n",
    "    return m\n",
    "def rotateMatrixA(b):  \n",
    "    for x in range(0, int(n / 2)): \n",
    "        for y in range(x, n-x-1): \n",
    "            temp = b[x][y]  \n",
    "            b[x][y] = b[y][n-1-x] \n",
    "            b[y][n-1-x] = b[n-1-x][n-1-y]  \n",
    "            b[n-1-x][n-1-y] = b[n-1-y][x] \n",
    "            b[n-1-y][x] = temp \n",
    "def rotate90Clockwise(c): \n",
    "    N = len(c[0]) \n",
    "    for i in range(N // 2): \n",
    "        for j in range(i, N - i - 1): \n",
    "            temp = c[i][j] \n",
    "            c[i][j] = c[N - 1 - j][i] \n",
    "            c[N - 1 - j][i] = c[N - 1 - i][N - 1 - j] \n",
    "            c[N - 1 - i][N - 1 - j] = c[j][N - 1 - i] \n",
    "            c[j][N - 1 - i] = temp\n",
    "def oper(n,a):\n",
    "    brc,blc,bbc=0,0,0\n",
    "    for i in range(0,n):\n",
    "        for j in range(0,n):\n",
    "            if j==0 and a[i][j]=='C':\n",
    "                blc+=1\n",
    "            if j==n-1 and a[i][j]=='C':\n",
    "                brc+=1\n",
    "            if n-1-i==n-1:\n",
    "                if a[n-1-i][n-1-j]=='C':\n",
    "                    bbc+=1\n",
    "                if a[n-1-i][n-1-j]=='D':\n",
    "                    bbc+=check(a,i,j)\n",
    "    if bbc>blc and bbc>brc:\n",
    "        return (max(blc,brc))\n",
    "    else:\n",
    "        return bbc\n",
    "if a==[]:\n",
    "    print(0)\n",
    "else:\n",
    "    orig=oper(n,a)\n",
    "    rotateMatrixA(b)\n",
    "    rotA=oper(n,b)\n",
    "    rotate90Clockwise(c)\n",
    "    rotC=oper(n,c)\n",
    "    print(max(orig,rotA,rotC))"
   ]
  },
  {
   "cell_type": "code",
   "execution_count": null,
   "metadata": {},
   "outputs": [],
   "source": []
  }
 ],
 "metadata": {
  "kernelspec": {
   "display_name": "Python 3",
   "language": "python",
   "name": "python3"
  },
  "language_info": {
   "codemirror_mode": {
    "name": "ipython",
    "version": 3
   },
   "file_extension": ".py",
   "mimetype": "text/x-python",
   "name": "python",
   "nbconvert_exporter": "python",
   "pygments_lexer": "ipython3",
   "version": "3.7.6"
  }
 },
 "nbformat": 4,
 "nbformat_minor": 4
}
