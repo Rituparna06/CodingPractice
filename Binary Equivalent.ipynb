{
 "cells": [
  {
   "cell_type": "code",
   "execution_count": 15,
   "metadata": {},
   "outputs": [
    {
     "name": "stdout",
     "output_type": "stream",
     "text": [
      "1\n",
      "50\n",
      "000001\n"
     ]
    }
   ],
   "source": [
    "n=int(input())\n",
    "l=list(map(int,input().split()))\n",
    "l.sort()\n",
    "maxx=max(l)\n",
    "binarys={}\n",
    "x=bin(maxx).replace(\"0b\",\"\")\n",
    "binarys[maxx]=x\n",
    "bits=len(x)\n",
    "for i in range(0,len(l)-1):\n",
    "    ele=bin(l[i]).replace(\"0b\",\"\")\n",
    "    st=''\n",
    "    if len(ele)!=bits:\n",
    "        diff=bits-len(ele)\n",
    "        st=\"0\"*diff + ele\n",
    "        ele=st\n",
    "    binarys[l[i]]=ele\n",
    "\n",
    "l2=[]\n",
    "for i in range(n+1):\n",
    "    for j in range(i+1 , n+1):\n",
    "        sub=l[i:j]\n",
    "        l2.append(sub)\n",
    "\n",
    "count=0\n",
    "for i in l2:\n",
    "    c0=0\n",
    "    c1=0\n",
    "    for j in i:\n",
    "        bieq=binarys[j]\n",
    "        c0=c0+bieq.count('0')\n",
    "        c1=c1+bieq.count('1')\n",
    "    if c0==c1:\n",
    "        count+=1\n",
    "\n",
    "final=\"\"\n",
    "result=bin(count).replace(\"0b\",\"\")\n",
    "bitdiff=bits-len(result)\n",
    "final=\"0\"*bitdiff + result\n",
    "print(final)"
   ]
  },
  {
   "cell_type": "code",
   "execution_count": null,
   "metadata": {},
   "outputs": [],
   "source": []
  },
  {
   "cell_type": "code",
   "execution_count": null,
   "metadata": {},
   "outputs": [],
   "source": []
  }
 ],
 "metadata": {
  "kernelspec": {
   "display_name": "Python 3",
   "language": "python",
   "name": "python3"
  },
  "language_info": {
   "codemirror_mode": {
    "name": "ipython",
    "version": 3
   },
   "file_extension": ".py",
   "mimetype": "text/x-python",
   "name": "python",
   "nbconvert_exporter": "python",
   "pygments_lexer": "ipython3",
   "version": "3.7.6"
  }
 },
 "nbformat": 4,
 "nbformat_minor": 4
}
